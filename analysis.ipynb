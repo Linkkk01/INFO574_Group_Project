{
 "cells": [
  {
   "cell_type": "code",
   "execution_count": 19,
   "metadata": {},
   "outputs": [
    {
     "data": {
      "text/html": [
       "<div>\n",
       "<style scoped>\n",
       "    .dataframe tbody tr th:only-of-type {\n",
       "        vertical-align: middle;\n",
       "    }\n",
       "\n",
       "    .dataframe tbody tr th {\n",
       "        vertical-align: top;\n",
       "    }\n",
       "\n",
       "    .dataframe thead th {\n",
       "        text-align: right;\n",
       "    }\n",
       "</style>\n",
       "<table border=\"1\" class=\"dataframe\">\n",
       "  <thead>\n",
       "    <tr style=\"text-align: right;\">\n",
       "      <th></th>\n",
       "      <th>ID</th>\n",
       "      <th>MONTHS_BALANCE</th>\n",
       "      <th>STATUS</th>\n",
       "    </tr>\n",
       "  </thead>\n",
       "  <tbody>\n",
       "    <tr>\n",
       "      <th>0</th>\n",
       "      <td>5001711</td>\n",
       "      <td>0</td>\n",
       "      <td>X</td>\n",
       "    </tr>\n",
       "    <tr>\n",
       "      <th>1</th>\n",
       "      <td>5001711</td>\n",
       "      <td>-1</td>\n",
       "      <td>0</td>\n",
       "    </tr>\n",
       "    <tr>\n",
       "      <th>2</th>\n",
       "      <td>5001711</td>\n",
       "      <td>-2</td>\n",
       "      <td>0</td>\n",
       "    </tr>\n",
       "    <tr>\n",
       "      <th>3</th>\n",
       "      <td>5001711</td>\n",
       "      <td>-3</td>\n",
       "      <td>0</td>\n",
       "    </tr>\n",
       "    <tr>\n",
       "      <th>4</th>\n",
       "      <td>5001712</td>\n",
       "      <td>0</td>\n",
       "      <td>C</td>\n",
       "    </tr>\n",
       "    <tr>\n",
       "      <th>...</th>\n",
       "      <td>...</td>\n",
       "      <td>...</td>\n",
       "      <td>...</td>\n",
       "    </tr>\n",
       "    <tr>\n",
       "      <th>1048570</th>\n",
       "      <td>5150487</td>\n",
       "      <td>-25</td>\n",
       "      <td>C</td>\n",
       "    </tr>\n",
       "    <tr>\n",
       "      <th>1048571</th>\n",
       "      <td>5150487</td>\n",
       "      <td>-26</td>\n",
       "      <td>C</td>\n",
       "    </tr>\n",
       "    <tr>\n",
       "      <th>1048572</th>\n",
       "      <td>5150487</td>\n",
       "      <td>-27</td>\n",
       "      <td>C</td>\n",
       "    </tr>\n",
       "    <tr>\n",
       "      <th>1048573</th>\n",
       "      <td>5150487</td>\n",
       "      <td>-28</td>\n",
       "      <td>C</td>\n",
       "    </tr>\n",
       "    <tr>\n",
       "      <th>1048574</th>\n",
       "      <td>5150487</td>\n",
       "      <td>-29</td>\n",
       "      <td>C</td>\n",
       "    </tr>\n",
       "  </tbody>\n",
       "</table>\n",
       "<p>1048575 rows × 3 columns</p>\n",
       "</div>"
      ],
      "text/plain": [
       "              ID  MONTHS_BALANCE STATUS\n",
       "0        5001711               0      X\n",
       "1        5001711              -1      0\n",
       "2        5001711              -2      0\n",
       "3        5001711              -3      0\n",
       "4        5001712               0      C\n",
       "...          ...             ...    ...\n",
       "1048570  5150487             -25      C\n",
       "1048571  5150487             -26      C\n",
       "1048572  5150487             -27      C\n",
       "1048573  5150487             -28      C\n",
       "1048574  5150487             -29      C\n",
       "\n",
       "[1048575 rows x 3 columns]"
      ]
     },
     "execution_count": 19,
     "metadata": {},
     "output_type": "execute_result"
    }
   ],
   "source": [
    "import pandas as pd \n",
    "pay_bill = pd.read_csv('C:/Users/87327/Desktop/Foundation of Analytics/final project/credit_record.csv')\n",
    "pay_bill"
   ]
  },
  {
   "cell_type": "code",
   "execution_count": 47,
   "metadata": {},
   "outputs": [
    {
     "data": {
      "text/plain": [
       "LEVELS\n",
       "0    4536\n",
       "Name: count, dtype: int64"
      ]
     },
     "execution_count": 47,
     "metadata": {},
     "output_type": "execute_result"
    }
   ],
   "source": [
    "credit = pay_bill[[\"ID\",\"STATUS\"]].groupby('ID')\n",
    "index = []\n",
    "CREDIT_LEVEL = []\n",
    "good_status = ['C']\n",
    "bad_status_1 = [\"0\"]\n",
    "bad_status = ['1', '2', '3', '4', '5']\n",
    "unused_status = ['X']\n",
    "\n",
    "for i in credit:\n",
    "    if all(i[1][\"STATUS\"].isin(unused_status)):\n",
    "        CREDIT_LEVEL.append(0)\n",
    "        index.append(i)\n",
    "\n",
    "credit_unused = pd.DataFrame({\"ID\":index, \"LEVELS\":CREDIT_LEVEL})\n",
    "credit_unused[\"LEVELS\"].value_counts()"
   ]
  },
  {
   "cell_type": "code",
   "execution_count": 60,
   "metadata": {},
   "outputs": [
    {
     "name": "stdout",
     "output_type": "stream",
     "text": [
      "        ID STATUS\n",
      "1  5001711      0\n",
      "2  5001711      0\n",
      "3  5001711      0\n"
     ]
    }
   ],
   "source": [
    "bill_used = pay_bill[pay_bill[\"STATUS\"] != \"X\"]\n",
    "bill_used = bill_used[[\"ID\",\"STATUS\"]].groupby('ID')\n",
    "for i in bill_used:\n",
    "    print(i[1])\n",
    "    break"
   ]
  },
  {
   "cell_type": "code",
   "execution_count": 57,
   "metadata": {},
   "outputs": [],
   "source": [
    "good_status = ['C']\n",
    "bad_status_1 = [\"0\"]\n",
    "bad_status = ['1', '2', '3', '4', '5']\n",
    "unused_status = ['X']\n",
    "\n",
    "# all(i[1][\"STATUS\"]).isin(good_status)\n",
    "\n",
    "index = []\n",
    "CREDIT_LEVEL = []\n",
    "for i in bill_used:\n",
    "    index.append(i[0])\n",
    "\n",
    "    if ((i[1][\"STATUS\"].isin(good_status)).sum() >= 0.7 * len(i[1][\"STATUS\"])):\n",
    "        CREDIT_LEVEL.append(1)\n",
    "\n",
    "    else:\n",
    "        CREDIT_LEVEL.append(-1)"
   ]
  },
  {
   "cell_type": "code",
   "execution_count": 61,
   "metadata": {},
   "outputs": [
    {
     "data": {
      "text/html": [
       "<div>\n",
       "<style scoped>\n",
       "    .dataframe tbody tr th:only-of-type {\n",
       "        vertical-align: middle;\n",
       "    }\n",
       "\n",
       "    .dataframe tbody tr th {\n",
       "        vertical-align: top;\n",
       "    }\n",
       "\n",
       "    .dataframe thead th {\n",
       "        text-align: right;\n",
       "    }\n",
       "</style>\n",
       "<table border=\"1\" class=\"dataframe\">\n",
       "  <thead>\n",
       "    <tr style=\"text-align: right;\">\n",
       "      <th></th>\n",
       "      <th>ID</th>\n",
       "      <th>LEVELS</th>\n",
       "    </tr>\n",
       "  </thead>\n",
       "  <tbody>\n",
       "    <tr>\n",
       "      <th>0</th>\n",
       "      <td>5001711</td>\n",
       "      <td>-1</td>\n",
       "    </tr>\n",
       "    <tr>\n",
       "      <th>1</th>\n",
       "      <td>5001712</td>\n",
       "      <td>-1</td>\n",
       "    </tr>\n",
       "    <tr>\n",
       "      <th>2</th>\n",
       "      <td>5001717</td>\n",
       "      <td>-1</td>\n",
       "    </tr>\n",
       "    <tr>\n",
       "      <th>3</th>\n",
       "      <td>5001718</td>\n",
       "      <td>-1</td>\n",
       "    </tr>\n",
       "    <tr>\n",
       "      <th>4</th>\n",
       "      <td>5001719</td>\n",
       "      <td>1</td>\n",
       "    </tr>\n",
       "    <tr>\n",
       "      <th>...</th>\n",
       "      <td>...</td>\n",
       "      <td>...</td>\n",
       "    </tr>\n",
       "    <tr>\n",
       "      <th>41444</th>\n",
       "      <td>5150480</td>\n",
       "      <td>1</td>\n",
       "    </tr>\n",
       "    <tr>\n",
       "      <th>41445</th>\n",
       "      <td>5150482</td>\n",
       "      <td>-1</td>\n",
       "    </tr>\n",
       "    <tr>\n",
       "      <th>41446</th>\n",
       "      <td>5150484</td>\n",
       "      <td>-1</td>\n",
       "    </tr>\n",
       "    <tr>\n",
       "      <th>41447</th>\n",
       "      <td>5150485</td>\n",
       "      <td>-1</td>\n",
       "    </tr>\n",
       "    <tr>\n",
       "      <th>41448</th>\n",
       "      <td>5150487</td>\n",
       "      <td>1</td>\n",
       "    </tr>\n",
       "  </tbody>\n",
       "</table>\n",
       "<p>41449 rows × 2 columns</p>\n",
       "</div>"
      ],
      "text/plain": [
       "            ID  LEVELS\n",
       "0      5001711      -1\n",
       "1      5001712      -1\n",
       "2      5001717      -1\n",
       "3      5001718      -1\n",
       "4      5001719       1\n",
       "...        ...     ...\n",
       "41444  5150480       1\n",
       "41445  5150482      -1\n",
       "41446  5150484      -1\n",
       "41447  5150485      -1\n",
       "41448  5150487       1\n",
       "\n",
       "[41449 rows x 2 columns]"
      ]
     },
     "execution_count": 61,
     "metadata": {},
     "output_type": "execute_result"
    }
   ],
   "source": [
    "credit"
   ]
  },
  {
   "cell_type": "code",
   "execution_count": 70,
   "metadata": {},
   "outputs": [
    {
     "data": {
      "text/plain": [
       "LEVELS\n",
       "-1    29402\n",
       " 1    12047\n",
       "Name: count, dtype: int64"
      ]
     },
     "execution_count": 70,
     "metadata": {},
     "output_type": "execute_result"
    }
   ],
   "source": [
    "credit = pd.DataFrame({\"ID\":index, \"LEVELS\":CREDIT_LEVEL})\n",
    "credit[\"LEVELS\"].value_counts()"
   ]
  },
  {
   "cell_type": "code",
   "execution_count": 21,
   "metadata": {},
   "outputs": [],
   "source": [
    "def credit_decision(df):\n",
    "    '''Determine for a given df, if the client is good, bad or unused status according to the credit usage.'''\n",
    "    good_status = ['C']\n",
    "    bad_status = ['0', '1', '2', '3', '4', '5']\n",
    "    unused_status = ['X']\n",
    "    # df = df.groupby('ID').apply(lambda x: 1 if all(x['STATUS'].isin(good_status)) else 0 if any(x['STATUS'].isin(bad_status)) else -1)\n",
    "    df[\"CREDIT_STATUS\"] = df[[\"ID\",\"STATUS\"]].groupby('ID').apply(criterion(df, good_status, bad_status, unused_status))\n",
    "    '''1: pay bill on time\n",
    "    0: pay bill late\n",
    "    -1: unused status'''\n",
    "    return df.reset_index().rename(columns={0:'CREDIT_STATUS'})"
   ]
  },
  {
   "cell_type": "code",
   "execution_count": 22,
   "metadata": {},
   "outputs": [
    {
     "ename": "TypeError",
     "evalue": "'int' object is not callable",
     "output_type": "error",
     "traceback": [
      "\u001b[1;31m---------------------------------------------------------------------------\u001b[0m",
      "\u001b[1;31mTypeError\u001b[0m                                 Traceback (most recent call last)",
      "File \u001b[1;32md:\\Python3.9\\lib\\site-packages\\pandas\\core\\groupby\\groupby.py:1765\u001b[0m, in \u001b[0;36mGroupBy.apply\u001b[1;34m(self, func, *args, **kwargs)\u001b[0m\n\u001b[0;32m   1764\u001b[0m \u001b[39mtry\u001b[39;00m:\n\u001b[1;32m-> 1765\u001b[0m     result \u001b[39m=\u001b[39m \u001b[39mself\u001b[39;49m\u001b[39m.\u001b[39;49m_python_apply_general(f, \u001b[39mself\u001b[39;49m\u001b[39m.\u001b[39;49m_selected_obj)\n\u001b[0;32m   1766\u001b[0m \u001b[39mexcept\u001b[39;00m \u001b[39mTypeError\u001b[39;00m:\n\u001b[0;32m   1767\u001b[0m     \u001b[39m# gh-20949\u001b[39;00m\n\u001b[0;32m   1768\u001b[0m     \u001b[39m# try again, with .apply acting as a filtering\u001b[39;00m\n\u001b[1;32m   (...)\u001b[0m\n\u001b[0;32m   1772\u001b[0m     \u001b[39m# fails on *some* columns, e.g. a numeric operation\u001b[39;00m\n\u001b[0;32m   1773\u001b[0m     \u001b[39m# on a string grouper column\u001b[39;00m\n",
      "File \u001b[1;32md:\\Python3.9\\lib\\site-packages\\pandas\\core\\groupby\\groupby.py:1814\u001b[0m, in \u001b[0;36mGroupBy._python_apply_general\u001b[1;34m(self, f, data, not_indexed_same, is_transform, is_agg)\u001b[0m\n\u001b[0;32m   1788\u001b[0m \u001b[39m\u001b[39m\u001b[39m\"\"\"\u001b[39;00m\n\u001b[0;32m   1789\u001b[0m \u001b[39mApply function f in python space\u001b[39;00m\n\u001b[0;32m   1790\u001b[0m \n\u001b[1;32m   (...)\u001b[0m\n\u001b[0;32m   1812\u001b[0m \u001b[39m    data after applying f\u001b[39;00m\n\u001b[0;32m   1813\u001b[0m \u001b[39m\"\"\"\u001b[39;00m\n\u001b[1;32m-> 1814\u001b[0m values, mutated \u001b[39m=\u001b[39m \u001b[39mself\u001b[39;49m\u001b[39m.\u001b[39;49mgrouper\u001b[39m.\u001b[39;49mapply_groupwise(f, data, \u001b[39mself\u001b[39;49m\u001b[39m.\u001b[39;49maxis)\n\u001b[0;32m   1815\u001b[0m \u001b[39mif\u001b[39;00m not_indexed_same \u001b[39mis\u001b[39;00m \u001b[39mNone\u001b[39;00m:\n",
      "File \u001b[1;32md:\\Python3.9\\lib\\site-packages\\pandas\\core\\groupby\\ops.py:905\u001b[0m, in \u001b[0;36mBaseGrouper.apply_groupwise\u001b[1;34m(self, f, data, axis)\u001b[0m\n\u001b[0;32m    904\u001b[0m group_axes \u001b[39m=\u001b[39m group\u001b[39m.\u001b[39maxes\n\u001b[1;32m--> 905\u001b[0m res \u001b[39m=\u001b[39m f(group)\n\u001b[0;32m    906\u001b[0m \u001b[39mif\u001b[39;00m \u001b[39mnot\u001b[39;00m mutated \u001b[39mand\u001b[39;00m \u001b[39mnot\u001b[39;00m _is_indexed_like(res, group_axes, axis):\n",
      "\u001b[1;31mTypeError\u001b[0m: 'int' object is not callable",
      "\nDuring handling of the above exception, another exception occurred:\n",
      "\u001b[1;31mTypeError\u001b[0m                                 Traceback (most recent call last)",
      "\u001b[1;32mc:\\Users\\87327\\Desktop\\Foundation of Analytics\\final project\\INFO574_Group_Project\\analysis.ipynb Cell 4\u001b[0m line \u001b[0;36m1\n\u001b[1;32m----> <a href='vscode-notebook-cell:/c%3A/Users/87327/Desktop/Foundation%20of%20Analytics/final%20project/INFO574_Group_Project/analysis.ipynb#W2sZmlsZQ%3D%3D?line=0'>1</a>\u001b[0m pay_bill \u001b[39m=\u001b[39m credit_decision(pay_bill)\n\u001b[0;32m      <a href='vscode-notebook-cell:/c%3A/Users/87327/Desktop/Foundation%20of%20Analytics/final%20project/INFO574_Group_Project/analysis.ipynb#W2sZmlsZQ%3D%3D?line=1'>2</a>\u001b[0m pay_bill\n",
      "\u001b[1;32mc:\\Users\\87327\\Desktop\\Foundation of Analytics\\final project\\INFO574_Group_Project\\analysis.ipynb Cell 4\u001b[0m line \u001b[0;36m7\n\u001b[0;32m      <a href='vscode-notebook-cell:/c%3A/Users/87327/Desktop/Foundation%20of%20Analytics/final%20project/INFO574_Group_Project/analysis.ipynb#W2sZmlsZQ%3D%3D?line=4'>5</a>\u001b[0m unused_status \u001b[39m=\u001b[39m [\u001b[39m'\u001b[39m\u001b[39mX\u001b[39m\u001b[39m'\u001b[39m]\n\u001b[0;32m      <a href='vscode-notebook-cell:/c%3A/Users/87327/Desktop/Foundation%20of%20Analytics/final%20project/INFO574_Group_Project/analysis.ipynb#W2sZmlsZQ%3D%3D?line=5'>6</a>\u001b[0m \u001b[39m# df = df.groupby('ID').apply(lambda x: 1 if all(x['STATUS'].isin(good_status)) else 0 if any(x['STATUS'].isin(bad_status)) else -1)\u001b[39;00m\n\u001b[1;32m----> <a href='vscode-notebook-cell:/c%3A/Users/87327/Desktop/Foundation%20of%20Analytics/final%20project/INFO574_Group_Project/analysis.ipynb#W2sZmlsZQ%3D%3D?line=6'>7</a>\u001b[0m df[\u001b[39m\"\u001b[39m\u001b[39mCREDIT_STATUS\u001b[39m\u001b[39m\"\u001b[39m] \u001b[39m=\u001b[39m df[[\u001b[39m\"\u001b[39;49m\u001b[39mID\u001b[39;49m\u001b[39m\"\u001b[39;49m,\u001b[39m\"\u001b[39;49m\u001b[39mSTATUS\u001b[39;49m\u001b[39m\"\u001b[39;49m]]\u001b[39m.\u001b[39;49mgroupby(\u001b[39m'\u001b[39;49m\u001b[39mID\u001b[39;49m\u001b[39m'\u001b[39;49m)\u001b[39m.\u001b[39;49mapply(criterion(df, good_status, bad_status, unused_status))\n\u001b[0;32m      <a href='vscode-notebook-cell:/c%3A/Users/87327/Desktop/Foundation%20of%20Analytics/final%20project/INFO574_Group_Project/analysis.ipynb#W2sZmlsZQ%3D%3D?line=7'>8</a>\u001b[0m \u001b[39m\u001b[39m\u001b[39m'''1: pay bill on time\u001b[39;00m\n\u001b[0;32m      <a href='vscode-notebook-cell:/c%3A/Users/87327/Desktop/Foundation%20of%20Analytics/final%20project/INFO574_Group_Project/analysis.ipynb#W2sZmlsZQ%3D%3D?line=8'>9</a>\u001b[0m \u001b[39m0: pay bill late\u001b[39;00m\n\u001b[0;32m     <a href='vscode-notebook-cell:/c%3A/Users/87327/Desktop/Foundation%20of%20Analytics/final%20project/INFO574_Group_Project/analysis.ipynb#W2sZmlsZQ%3D%3D?line=9'>10</a>\u001b[0m \u001b[39m-1: unused status'''\u001b[39;00m\n\u001b[0;32m     <a href='vscode-notebook-cell:/c%3A/Users/87327/Desktop/Foundation%20of%20Analytics/final%20project/INFO574_Group_Project/analysis.ipynb#W2sZmlsZQ%3D%3D?line=10'>11</a>\u001b[0m \u001b[39mreturn\u001b[39;00m df\u001b[39m.\u001b[39mreset_index()\u001b[39m.\u001b[39mrename(columns\u001b[39m=\u001b[39m{\u001b[39m0\u001b[39m:\u001b[39m'\u001b[39m\u001b[39mCREDIT_STATUS\u001b[39m\u001b[39m'\u001b[39m})\n",
      "File \u001b[1;32md:\\Python3.9\\lib\\site-packages\\pandas\\core\\groupby\\groupby.py:1775\u001b[0m, in \u001b[0;36mGroupBy.apply\u001b[1;34m(self, func, *args, **kwargs)\u001b[0m\n\u001b[0;32m   1765\u001b[0m         result \u001b[39m=\u001b[39m \u001b[39mself\u001b[39m\u001b[39m.\u001b[39m_python_apply_general(f, \u001b[39mself\u001b[39m\u001b[39m.\u001b[39m_selected_obj)\n\u001b[0;32m   1766\u001b[0m     \u001b[39mexcept\u001b[39;00m \u001b[39mTypeError\u001b[39;00m:\n\u001b[0;32m   1767\u001b[0m         \u001b[39m# gh-20949\u001b[39;00m\n\u001b[0;32m   1768\u001b[0m         \u001b[39m# try again, with .apply acting as a filtering\u001b[39;00m\n\u001b[1;32m   (...)\u001b[0m\n\u001b[0;32m   1772\u001b[0m         \u001b[39m# fails on *some* columns, e.g. a numeric operation\u001b[39;00m\n\u001b[0;32m   1773\u001b[0m         \u001b[39m# on a string grouper column\u001b[39;00m\n\u001b[1;32m-> 1775\u001b[0m         \u001b[39mreturn\u001b[39;00m \u001b[39mself\u001b[39;49m\u001b[39m.\u001b[39;49m_python_apply_general(f, \u001b[39mself\u001b[39;49m\u001b[39m.\u001b[39;49m_obj_with_exclusions)\n\u001b[0;32m   1777\u001b[0m \u001b[39mreturn\u001b[39;00m result\n",
      "File \u001b[1;32md:\\Python3.9\\lib\\site-packages\\pandas\\core\\groupby\\groupby.py:1814\u001b[0m, in \u001b[0;36mGroupBy._python_apply_general\u001b[1;34m(self, f, data, not_indexed_same, is_transform, is_agg)\u001b[0m\n\u001b[0;32m   1779\u001b[0m \u001b[39m@final\u001b[39m\n\u001b[0;32m   1780\u001b[0m \u001b[39mdef\u001b[39;00m \u001b[39m_python_apply_general\u001b[39m(\n\u001b[0;32m   1781\u001b[0m     \u001b[39mself\u001b[39m,\n\u001b[1;32m   (...)\u001b[0m\n\u001b[0;32m   1786\u001b[0m     is_agg: \u001b[39mbool\u001b[39m \u001b[39m=\u001b[39m \u001b[39mFalse\u001b[39;00m,\n\u001b[0;32m   1787\u001b[0m ) \u001b[39m-\u001b[39m\u001b[39m>\u001b[39m NDFrameT:\n\u001b[0;32m   1788\u001b[0m \u001b[39m    \u001b[39m\u001b[39m\"\"\"\u001b[39;00m\n\u001b[0;32m   1789\u001b[0m \u001b[39m    Apply function f in python space\u001b[39;00m\n\u001b[0;32m   1790\u001b[0m \n\u001b[1;32m   (...)\u001b[0m\n\u001b[0;32m   1812\u001b[0m \u001b[39m        data after applying f\u001b[39;00m\n\u001b[0;32m   1813\u001b[0m \u001b[39m    \"\"\"\u001b[39;00m\n\u001b[1;32m-> 1814\u001b[0m     values, mutated \u001b[39m=\u001b[39m \u001b[39mself\u001b[39;49m\u001b[39m.\u001b[39;49mgrouper\u001b[39m.\u001b[39;49mapply_groupwise(f, data, \u001b[39mself\u001b[39;49m\u001b[39m.\u001b[39;49maxis)\n\u001b[0;32m   1815\u001b[0m     \u001b[39mif\u001b[39;00m not_indexed_same \u001b[39mis\u001b[39;00m \u001b[39mNone\u001b[39;00m:\n\u001b[0;32m   1816\u001b[0m         not_indexed_same \u001b[39m=\u001b[39m mutated\n",
      "File \u001b[1;32md:\\Python3.9\\lib\\site-packages\\pandas\\core\\groupby\\ops.py:905\u001b[0m, in \u001b[0;36mBaseGrouper.apply_groupwise\u001b[1;34m(self, f, data, axis)\u001b[0m\n\u001b[0;32m    903\u001b[0m \u001b[39m# group might be modified\u001b[39;00m\n\u001b[0;32m    904\u001b[0m group_axes \u001b[39m=\u001b[39m group\u001b[39m.\u001b[39maxes\n\u001b[1;32m--> 905\u001b[0m res \u001b[39m=\u001b[39m f(group)\n\u001b[0;32m    906\u001b[0m \u001b[39mif\u001b[39;00m \u001b[39mnot\u001b[39;00m mutated \u001b[39mand\u001b[39;00m \u001b[39mnot\u001b[39;00m _is_indexed_like(res, group_axes, axis):\n\u001b[0;32m    907\u001b[0m     mutated \u001b[39m=\u001b[39m \u001b[39mTrue\u001b[39;00m\n",
      "\u001b[1;31mTypeError\u001b[0m: 'int' object is not callable"
     ]
    }
   ],
   "source": [
    "pay_bill = credit_decision(pay_bill)\n",
    "pay_bill"
   ]
  },
  {
   "cell_type": "code",
   "execution_count": null,
   "metadata": {},
   "outputs": [
    {
     "data": {
      "text/plain": [
       "CREDIT_STATUS\n",
       " 0    40032\n",
       "-1     5522\n",
       " 1      431\n",
       "Name: count, dtype: int64"
      ]
     },
     "execution_count": 24,
     "metadata": {},
     "output_type": "execute_result"
    }
   ],
   "source": [
    "pay_bill['CREDIT_STATUS'].value_counts()"
   ]
  },
  {
   "cell_type": "code",
   "execution_count": null,
   "metadata": {},
   "outputs": [],
   "source": []
  }
 ],
 "metadata": {
  "kernelspec": {
   "display_name": "foa",
   "language": "python",
   "name": "python3"
  },
  "language_info": {
   "codemirror_mode": {
    "name": "ipython",
    "version": 3
   },
   "file_extension": ".py",
   "mimetype": "text/x-python",
   "name": "python",
   "nbconvert_exporter": "python",
   "pygments_lexer": "ipython3",
   "version": "3.9.10"
  }
 },
 "nbformat": 4,
 "nbformat_minor": 2
}

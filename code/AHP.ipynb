{
 "cells": [
  {
   "cell_type": "code",
   "execution_count": 150,
   "metadata": {},
   "outputs": [],
   "source": [
    "import numpy as np\n",
    "import pandas as pd\n",
    "\n",
    "importance_matrix = pd.read_excel(\"../data/feature_importance.xlsx\", sheet_name=4)\n",
    "N = importance_matrix.shape[0]\n",
    "\n",
    "Judgment_matrix_A = importance_matrix.drop(\"Unnamed: 0\", axis=1).values\n",
    "# Judgment_matrix_A"
   ]
  },
  {
   "cell_type": "code",
   "execution_count": 158,
   "metadata": {},
   "outputs": [],
   "source": [
    "t = np.array([[1. , 1. , 2. , 2. , 2. , 1. , 3. , 2. , 2. , 2. , 3. ],\n",
    " [1. , 1. , 1. , 1. , 3. , 1. , 2. , 3. , 2. , 1. , 2. ],\n",
    " [0.5, 1. , 1. , 1. , 2. , 2. , 3. , 3. , 1. , 2. , 2. ],\n",
    " [0.5, 1. , 1. , 1. , 2. , 1. , 3. , 2. , 3. , 3. , 2. ],\n",
    " [0.5, 1/3, 0.5, 0.5, 1. , 1. , 3. , 1. , 1. , 2. , 3. ],\n",
    " [1. , 1. , 0.5, 1. , 1. , 1. , 1. , 1. , 2. , 2. , 2. ],\n",
    " [1/3, 0.5, 1/3, 1/3, 1/3, 1. , 1. , 1. , 3. , 2. , 2. ],\n",
    " [0.5, 1/3, 1/3, 0.5, 1. , 1. , 1. , 1. , 3. , 1. , 1. ],\n",
    " [0.5, 0.5, 1. , 1/3, 1. , 0.5, 1/3, 1/3, 1. , 3. , 1. ],\n",
    " [0.5, 1. , 0.5, 1/3, 0.5, 0.5, 0.5, 1. , 1/3, 1. , 3. ],\n",
    " [1/3, 0.5, 0.5, 0.5, 1/3, 0.5, 0.5, 1. , 1. , 1/3, 1. ]])"
   ]
  },
  {
   "cell_type": "code",
   "execution_count": 159,
   "metadata": {},
   "outputs": [
    {
     "data": {
      "text/plain": [
       "0.06692924042348622"
      ]
     },
     "execution_count": 159,
     "metadata": {},
     "output_type": "execute_result"
    }
   ],
   "source": [
    "weights_W = []\n",
    "\n",
    "for i in range(t.shape[0]):\n",
    "    weights_W.append(np.power(np.prod(t[i]), 1/N))\n",
    "\n",
    "std_weights_W = weights_W/np.sum(weights_W)\n",
    "std_weights_W\n",
    "\n",
    "A_W = []\n",
    "for i in range(t.shape[0]):\n",
    "    A_W.append(np.sum(std_weights_W*t[i]))\n",
    "\n",
    "lambda_max = np.sum(A_W / (N * std_weights_W))\n",
    "lambda_max\n",
    "\n",
    "CI = (lambda_max - N) / (N - 1)\n",
    "RI = [0, 0, 0.68, 0.90, 1.12, 1.24, 1.32, 1.41, 1.45, 1.49, 1.51, 1.54, 1.56]\n",
    "CR = CI/RI[10]\n",
    "CR"
   ]
  },
  {
   "cell_type": "code",
   "execution_count": 151,
   "metadata": {},
   "outputs": [
    {
     "data": {
      "text/plain": [
       "array([1.        , 0.11111111, 0.33333333, 3.        , 9.        ,\n",
       "       1.        , 0.14285714, 5.        , 1.        , 7.        ,\n",
       "       0.2       ])"
      ]
     },
     "execution_count": 151,
     "metadata": {},
     "output_type": "execute_result"
    }
   ],
   "source": [
    "Judgment_matrix_A[0]\n"
   ]
  },
  {
   "cell_type": "code",
   "execution_count": 157,
   "metadata": {},
   "outputs": [
    {
     "data": {
      "text/plain": [
       "1.8761347207082901"
      ]
     },
     "execution_count": 157,
     "metadata": {},
     "output_type": "execute_result"
    }
   ],
   "source": [
    "weights_W = []\n",
    "\n",
    "for i in range(Judgment_matrix_A.shape[0]):\n",
    "    weights_W.append(np.power(np.prod(Judgment_matrix_A[i]), 1/N))\n",
    "\n",
    "std_weights_W = weights_W/np.sum(weights_W)\n",
    "std_weights_W"
   ]
  },
  {
   "cell_type": "code",
   "execution_count": 153,
   "metadata": {},
   "outputs": [],
   "source": [
    "# eigvals, eigvecs = np.linalg.eig(std_weights_W)\n",
    "# max_eigval = np.max(eigvals)\n",
    "# max_eigval"
   ]
  },
  {
   "cell_type": "code",
   "execution_count": 154,
   "metadata": {},
   "outputs": [
    {
     "data": {
      "text/plain": [
       "13.360775872823936"
      ]
     },
     "execution_count": 154,
     "metadata": {},
     "output_type": "execute_result"
    }
   ],
   "source": [
    "A_W = []\n",
    "for i in range(Judgment_matrix_A.shape[0]):\n",
    "    A_W.append(np.sum(std_weights_W*Judgment_matrix_A[i]))\n",
    "\n",
    "lambda_max = np.sum(A_W / (N * std_weights_W))\n",
    "lambda_max"
   ]
  },
  {
   "cell_type": "code",
   "execution_count": 155,
   "metadata": {},
   "outputs": [
    {
     "data": {
      "text/plain": [
       "0.15634277303469776"
      ]
     },
     "execution_count": 155,
     "metadata": {},
     "output_type": "execute_result"
    }
   ],
   "source": [
    "CI = (lambda_max - N) / (N - 1)\n",
    "RI = [0, 0, 0.68, 0.90, 1.12, 1.24, 1.32, 1.41, 1.45, 1.49, 1.51, 1.54, 1.56]\n",
    "CR = CI/RI[10]\n",
    "CR"
   ]
  }
 ],
 "metadata": {
  "kernelspec": {
   "display_name": "Python 3",
   "language": "python",
   "name": "python3"
  },
  "language_info": {
   "codemirror_mode": {
    "name": "ipython",
    "version": 3
   },
   "file_extension": ".py",
   "mimetype": "text/x-python",
   "name": "python",
   "nbconvert_exporter": "python",
   "pygments_lexer": "ipython3",
   "version": "3.9.10"
  }
 },
 "nbformat": 4,
 "nbformat_minor": 2
}

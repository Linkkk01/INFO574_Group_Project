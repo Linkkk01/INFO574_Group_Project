{
 "cells": [
  {
   "cell_type": "code",
   "execution_count": 178,
   "metadata": {},
   "outputs": [],
   "source": [
    "import numpy as np\n",
    "import pandas as pd\n",
    "\n",
    "importance_matrix = pd.read_excel(\"../data/feature_importance.xlsx\", sheet_name=4)\n",
    "N = importance_matrix.shape[0]\n",
    "\n",
    "Judgment_matrix_A = importance_matrix.drop(\"Unnamed: 0\", axis=1).values\n",
    "# Judgment_matrix_A"
   ]
  },
  {
   "cell_type": "code",
   "execution_count": 179,
   "metadata": {},
   "outputs": [
    {
     "data": {
      "text/plain": [
       "array([0.06324513, 0.2670073 , 0.06735867, 0.01720726, 0.01998436,\n",
       "       0.08033522, 0.18545356, 0.11098794, 0.05629297, 0.02864629,\n",
       "       0.1034813 ])"
      ]
     },
     "execution_count": 179,
     "metadata": {},
     "output_type": "execute_result"
    }
   ],
   "source": [
    "weights_W = []\n",
    "\n",
    "for i in range(Judgment_matrix_A.shape[0]):\n",
    "    weights_W.append(np.power(np.prod(Judgment_matrix_A[i]), 1/N))\n",
    "\n",
    "std_weights_W = weights_W/np.sum(weights_W)\n",
    "std_weights_W"
   ]
  },
  {
   "cell_type": "code",
   "execution_count": 180,
   "metadata": {},
   "outputs": [
    {
     "data": {
      "text/plain": [
       "1.0"
      ]
     },
     "execution_count": 180,
     "metadata": {},
     "output_type": "execute_result"
    }
   ],
   "source": [
    "np.sum(std_weights_W)"
   ]
  },
  {
   "cell_type": "code",
   "execution_count": 181,
   "metadata": {},
   "outputs": [
    {
     "data": {
      "text/plain": [
       "12.379084394285133"
      ]
     },
     "execution_count": 181,
     "metadata": {},
     "output_type": "execute_result"
    }
   ],
   "source": [
    "A_W = []\n",
    "for i in range(Judgment_matrix_A.shape[0]):\n",
    "    A_W.append(np.sum(std_weights_W*Judgment_matrix_A[i]))\n",
    "\n",
    "lambda_max = np.sum(A_W / (N * std_weights_W))\n",
    "lambda_max"
   ]
  },
  {
   "cell_type": "code",
   "execution_count": 182,
   "metadata": {},
   "outputs": [
    {
     "data": {
      "text/plain": [
       "0.0913300923367638"
      ]
     },
     "execution_count": 182,
     "metadata": {},
     "output_type": "execute_result"
    }
   ],
   "source": [
    "CI = (lambda_max - N) / (N - 1)\n",
    "RI = [0, 0, 0.68, 0.90, 1.12, 1.24, 1.32, 1.41, 1.45, 1.49, 1.51, 1.54, 1.56]\n",
    "CR = CI/RI[10]\n",
    "CR"
   ]
  }
 ],
 "metadata": {
  "kernelspec": {
   "display_name": "Python 3",
   "language": "python",
   "name": "python3"
  },
  "language_info": {
   "codemirror_mode": {
    "name": "ipython",
    "version": 3
   },
   "file_extension": ".py",
   "mimetype": "text/x-python",
   "name": "python",
   "nbconvert_exporter": "python",
   "pygments_lexer": "ipython3",
   "version": "3.9.10"
  }
 },
 "nbformat": 4,
 "nbformat_minor": 2
}

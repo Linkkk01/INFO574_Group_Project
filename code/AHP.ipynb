{
 "cells": [
  {
   "cell_type": "code",
   "execution_count": 185,
   "metadata": {},
   "outputs": [
    {
     "data": {
      "text/plain": [
       "0     NAME_EDUCATION_TYPE\n",
       "1             CODE_GENDER\n",
       "2            FLAG_OWN_CAR\n",
       "3         FLAG_OWN_REALTY\n",
       "4        AMT_INCOME_TOTAL\n",
       "5        NAME_INCOME_TYPE\n",
       "6      NAME_FAMILY_STATUS\n",
       "7                     age\n",
       "8              occupation\n",
       "9                 capital\n",
       "10         hours-per-week\n",
       "Name: Unnamed: 0, dtype: object"
      ]
     },
     "execution_count": 185,
     "metadata": {},
     "output_type": "execute_result"
    }
   ],
   "source": [
    "import numpy as np\n",
    "import pandas as pd\n",
    "\n",
    "importance_matrix = pd.read_excel(\"../data/feature_importance.xlsx\", sheet_name=4)\n",
    "N = importance_matrix.shape[0]\n",
    "\n",
    "Judgment_matrix_A = importance_matrix.drop(\"Unnamed: 0\", axis=1).values\n",
    "importance_matrix.iloc[:,0]"
   ]
  },
  {
   "cell_type": "code",
   "execution_count": 186,
   "metadata": {},
   "outputs": [
    {
     "data": {
      "text/plain": [
       "array([0.06324513, 0.2670073 , 0.06735867, 0.01720726, 0.01998436,\n",
       "       0.08033522, 0.18545356, 0.11098794, 0.05629297, 0.02864629,\n",
       "       0.1034813 ])"
      ]
     },
     "execution_count": 186,
     "metadata": {},
     "output_type": "execute_result"
    }
   ],
   "source": [
    "weights_W = []\n",
    "\n",
    "for i in range(Judgment_matrix_A.shape[0]):\n",
    "    weights_W.append(np.power(np.prod(Judgment_matrix_A[i]), 1/N))\n",
    "\n",
    "std_weights_W = weights_W/np.sum(weights_W)\n",
    "std_weights_W"
   ]
  },
  {
   "cell_type": "code",
   "execution_count": 187,
   "metadata": {},
   "outputs": [
    {
     "data": {
      "text/plain": [
       "1.0"
      ]
     },
     "execution_count": 187,
     "metadata": {},
     "output_type": "execute_result"
    }
   ],
   "source": [
    "np.sum(std_weights_W)"
   ]
  },
  {
   "cell_type": "code",
   "execution_count": 188,
   "metadata": {},
   "outputs": [
    {
     "data": {
      "text/plain": [
       "12.379084394285133"
      ]
     },
     "execution_count": 188,
     "metadata": {},
     "output_type": "execute_result"
    }
   ],
   "source": [
    "A_W = []\n",
    "for i in range(Judgment_matrix_A.shape[0]):\n",
    "    A_W.append(np.sum(std_weights_W*Judgment_matrix_A[i]))\n",
    "\n",
    "lambda_max = np.sum(A_W / (N * std_weights_W))\n",
    "lambda_max"
   ]
  },
  {
   "cell_type": "code",
   "execution_count": 189,
   "metadata": {},
   "outputs": [
    {
     "data": {
      "text/plain": [
       "0.0913300923367638"
      ]
     },
     "execution_count": 189,
     "metadata": {},
     "output_type": "execute_result"
    }
   ],
   "source": [
    "CI = (lambda_max - N) / (N - 1)\n",
    "RI = [0, 0, 0.68, 0.90, 1.12, 1.24, 1.32, 1.41, 1.45, 1.49, 1.51, 1.54, 1.56]\n",
    "CR = CI/RI[10]\n",
    "CR"
   ]
  },
  {
   "cell_type": "code",
   "execution_count": 190,
   "metadata": {},
   "outputs": [
    {
     "data": {
      "text/html": [
       "<div>\n",
       "<style scoped>\n",
       "    .dataframe tbody tr th:only-of-type {\n",
       "        vertical-align: middle;\n",
       "    }\n",
       "\n",
       "    .dataframe tbody tr th {\n",
       "        vertical-align: top;\n",
       "    }\n",
       "\n",
       "    .dataframe thead th {\n",
       "        text-align: right;\n",
       "    }\n",
       "</style>\n",
       "<table border=\"1\" class=\"dataframe\">\n",
       "  <thead>\n",
       "    <tr style=\"text-align: right;\">\n",
       "      <th></th>\n",
       "      <th>Feature_name</th>\n",
       "      <th>Weight</th>\n",
       "    </tr>\n",
       "  </thead>\n",
       "  <tbody>\n",
       "    <tr>\n",
       "      <th>0</th>\n",
       "      <td>NAME_EDUCATION_TYPE</td>\n",
       "      <td>0.063245</td>\n",
       "    </tr>\n",
       "    <tr>\n",
       "      <th>1</th>\n",
       "      <td>CODE_GENDER</td>\n",
       "      <td>0.267007</td>\n",
       "    </tr>\n",
       "    <tr>\n",
       "      <th>2</th>\n",
       "      <td>FLAG_OWN_CAR</td>\n",
       "      <td>0.067359</td>\n",
       "    </tr>\n",
       "    <tr>\n",
       "      <th>3</th>\n",
       "      <td>FLAG_OWN_REALTY</td>\n",
       "      <td>0.017207</td>\n",
       "    </tr>\n",
       "    <tr>\n",
       "      <th>4</th>\n",
       "      <td>AMT_INCOME_TOTAL</td>\n",
       "      <td>0.019984</td>\n",
       "    </tr>\n",
       "    <tr>\n",
       "      <th>5</th>\n",
       "      <td>NAME_INCOME_TYPE</td>\n",
       "      <td>0.080335</td>\n",
       "    </tr>\n",
       "    <tr>\n",
       "      <th>6</th>\n",
       "      <td>NAME_FAMILY_STATUS</td>\n",
       "      <td>0.185454</td>\n",
       "    </tr>\n",
       "    <tr>\n",
       "      <th>7</th>\n",
       "      <td>age</td>\n",
       "      <td>0.110988</td>\n",
       "    </tr>\n",
       "    <tr>\n",
       "      <th>8</th>\n",
       "      <td>occupation</td>\n",
       "      <td>0.056293</td>\n",
       "    </tr>\n",
       "    <tr>\n",
       "      <th>9</th>\n",
       "      <td>capital</td>\n",
       "      <td>0.028646</td>\n",
       "    </tr>\n",
       "    <tr>\n",
       "      <th>10</th>\n",
       "      <td>hours-per-week</td>\n",
       "      <td>0.103481</td>\n",
       "    </tr>\n",
       "  </tbody>\n",
       "</table>\n",
       "</div>"
      ],
      "text/plain": [
       "           Feature_name    Weight\n",
       "0   NAME_EDUCATION_TYPE  0.063245\n",
       "1           CODE_GENDER  0.267007\n",
       "2          FLAG_OWN_CAR  0.067359\n",
       "3       FLAG_OWN_REALTY  0.017207\n",
       "4      AMT_INCOME_TOTAL  0.019984\n",
       "5      NAME_INCOME_TYPE  0.080335\n",
       "6    NAME_FAMILY_STATUS  0.185454\n",
       "7                   age  0.110988\n",
       "8            occupation  0.056293\n",
       "9               capital  0.028646\n",
       "10       hours-per-week  0.103481"
      ]
     },
     "execution_count": 190,
     "metadata": {},
     "output_type": "execute_result"
    }
   ],
   "source": [
    "feature_weights = pd.DataFrame({\"Feature_name\": importance_matrix.iloc[:,0], \"Weight\": std_weights_W})\n",
    "feature_weights"
   ]
  },
  {
   "cell_type": "code",
   "execution_count": 191,
   "metadata": {},
   "outputs": [],
   "source": [
    "feature_weights.to_csv('../data/feature_weights.csv', index=False)"
   ]
  }
 ],
 "metadata": {
  "kernelspec": {
   "display_name": "Python 3",
   "language": "python",
   "name": "python3"
  },
  "language_info": {
   "codemirror_mode": {
    "name": "ipython",
    "version": 3
   },
   "file_extension": ".py",
   "mimetype": "text/x-python",
   "name": "python",
   "nbconvert_exporter": "python",
   "pygments_lexer": "ipython3",
   "version": "3.9.10"
  }
 },
 "nbformat": 4,
 "nbformat_minor": 2
}

{
 "cells": [
  {
   "cell_type": "code",
   "execution_count": 45,
   "metadata": {},
   "outputs": [],
   "source": [
    "import numpy as np\n",
    "import pandas as pd\n",
    "\n",
    "importance_matrix = pd.read_excel(\"../data/feature_importance.xlsx\", sheet_name=1)\n",
    "N = importance_matrix.shape[0]\n",
    "\n",
    "Judgment_matrix_A = importance_matrix.drop(\"Unnamed: 0\", axis=1).values\n",
    "# Judgment_matrix_A"
   ]
  },
  {
   "cell_type": "code",
   "execution_count": 46,
   "metadata": {},
   "outputs": [
    {
     "data": {
      "text/plain": [
       "array([1.        , 0.11111111, 0.33333333, 3.        , 9.        ,\n",
       "       1.        , 0.14285714, 5.        , 1.        , 7.        ,\n",
       "       0.2       ])"
      ]
     },
     "execution_count": 46,
     "metadata": {},
     "output_type": "execute_result"
    }
   ],
   "source": [
    "Judgment_matrix_A[0]\n"
   ]
  },
  {
   "cell_type": "code",
   "execution_count": 47,
   "metadata": {},
   "outputs": [
    {
     "data": {
      "text/plain": [
       "array([0.05830091, 0.29790342, 0.05793639, 0.01153255, 0.01215675,\n",
       "       0.06676792, 0.18382327, 0.10375309, 0.05677294, 0.01975171,\n",
       "       0.13130106])"
      ]
     },
     "execution_count": 47,
     "metadata": {},
     "output_type": "execute_result"
    }
   ],
   "source": [
    "weights_W = []\n",
    "\n",
    "for i in range(Judgment_matrix_A.shape[0]):\n",
    "    weights_W.append(np.power(np.prod(Judgment_matrix_A[i]), 1/N))\n",
    "\n",
    "std_weights_W = weights_W/np.sum(weights_W)\n",
    "std_weights_W"
   ]
  },
  {
   "cell_type": "code",
   "execution_count": 48,
   "metadata": {},
   "outputs": [
    {
     "data": {
      "text/plain": [
       "13.360775872823936"
      ]
     },
     "execution_count": 48,
     "metadata": {},
     "output_type": "execute_result"
    }
   ],
   "source": [
    "A_W = []\n",
    "for i in range(Judgment_matrix_A.shape[0]):\n",
    "    A_W.append(np.sum(std_weights_W*Judgment_matrix_A[i]))\n",
    "\n",
    "lambda_max = np.sum(A_W / (N * std_weights_W))\n",
    "lambda_max"
   ]
  },
  {
   "cell_type": "code",
   "execution_count": 49,
   "metadata": {},
   "outputs": [
    {
     "data": {
      "text/plain": [
       "0.15634277303469776"
      ]
     },
     "execution_count": 49,
     "metadata": {},
     "output_type": "execute_result"
    }
   ],
   "source": [
    "CI = (lambda_max - N) / (N - 1)\n",
    "RI = [0, 0, 0.68, 0.90, 1.12, 1.24, 1.32, 1.41, 1.45, 1.49, 1.51, 1.54, 1.56]\n",
    "CR = CI/RI[10]\n",
    "CR"
   ]
  },
  {
   "cell_type": "code",
   "execution_count": 50,
   "metadata": {},
   "outputs": [
    {
     "data": {
      "text/plain": [
       "1.51"
      ]
     },
     "execution_count": 50,
     "metadata": {},
     "output_type": "execute_result"
    }
   ],
   "source": [
    "arr1 = np.array([10, 20, 30, 40])\n",
    "arr2 = np.array([2, 4, 5, 10])\n",
    "\n",
    "arr1/arr2\n",
    "RI[10]"
   ]
  }
 ],
 "metadata": {
  "kernelspec": {
   "display_name": "Python 3",
   "language": "python",
   "name": "python3"
  },
  "language_info": {
   "codemirror_mode": {
    "name": "ipython",
    "version": 3
   },
   "file_extension": ".py",
   "mimetype": "text/x-python",
   "name": "python",
   "nbconvert_exporter": "python",
   "pygments_lexer": "ipython3",
   "version": "3.9.10"
  }
 },
 "nbformat": 4,
 "nbformat_minor": 2
}
